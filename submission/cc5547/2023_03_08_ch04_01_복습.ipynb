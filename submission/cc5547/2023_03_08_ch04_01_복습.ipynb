{
  "nbformat": 4,
  "nbformat_minor": 0,
  "metadata": {
    "colab": {
      "provenance": [],
      "include_colab_link": true
    },
    "kernelspec": {
      "name": "python3",
      "display_name": "Python 3"
    },
    "language_info": {
      "name": "python"
    }
  },
  "cells": [
    {
      "cell_type": "markdown",
      "metadata": {
        "id": "view-in-github",
        "colab_type": "text"
      },
      "source": [
        "<a href=\"https://colab.research.google.com/github/cc5547/Python/blob/main/submission/cc5547/2023_03_08_ch04_01_%EB%B3%B5%EC%8A%B5.ipynb\" target=\"_parent\"><img src=\"https://colab.research.google.com/assets/colab-badge.svg\" alt=\"Open In Colab\"/></a>"
      ]
    },
    {
      "cell_type": "code",
      "execution_count": null,
      "metadata": {
        "id": "thP66U1XDnHO",
        "colab": {
          "base_uri": "https://localhost:8080/"
        },
        "outputId": "86f2986a-178d-485a-e6cc-03d71f664a9b"
      },
      "outputs": [
        {
          "output_type": "stream",
          "name": "stdout",
          "text": [
            "Package                       Version\n",
            "----------------------------- --------------------\n",
            "absl-py                       1.4.0\n",
            "aeppl                         0.0.33\n",
            "aesara                        2.7.9\n",
            "aiohttp                       3.8.4\n",
            "aiosignal                     1.3.1\n",
            "alabaster                     0.7.13\n",
            "albumentations                1.2.1\n",
            "altair                        4.2.2\n",
            "appdirs                       1.4.4\n",
            "argon2-cffi                   21.3.0\n",
            "argon2-cffi-bindings          21.2.0\n",
            "arviz                         0.12.1\n",
            "astor                         0.8.1\n",
            "astropy                       4.3.1\n",
            "astunparse                    1.6.3\n",
            "async-timeout                 4.0.2\n",
            "atomicwrites                  1.4.1\n",
            "attrs                         22.2.0\n",
            "audioread                     3.0.0\n",
            "autograd                      1.5\n",
            "Babel                         2.12.1\n",
            "backcall                      0.2.0\n",
            "backports.zoneinfo            0.2.1\n",
            "beautifulsoup4                4.6.3\n",
            "bleach                        6.0.0\n",
            "blis                          0.7.9\n",
            "bokeh                         2.4.3\n",
            "branca                        0.6.0\n",
            "bs4                           0.0.1\n",
            "CacheControl                  0.12.11\n",
            "cachetools                    5.3.0\n",
            "catalogue                     2.0.8\n",
            "certifi                       2022.12.7\n",
            "cffi                          1.15.1\n",
            "cftime                        1.6.2\n",
            "chardet                       4.0.0\n",
            "charset-normalizer            3.0.1\n",
            "click                         8.1.3\n",
            "clikit                        0.6.2\n",
            "cloudpickle                   2.2.1\n",
            "cmake                         3.22.6\n",
            "cmdstanpy                     1.1.0\n",
            "colorcet                      3.0.1\n",
            "colorlover                    0.3.0\n",
            "community                     1.0.0b1\n",
            "confection                    0.0.4\n",
            "cons                          0.4.5\n",
            "contextlib2                   0.5.5\n",
            "convertdate                   2.4.0\n",
            "crashtest                     0.3.1\n",
            "crcmod                        1.7\n",
            "cufflinks                     0.17.3\n",
            "cvxopt                        1.3.0\n",
            "cvxpy                         1.2.3\n",
            "cycler                        0.11.0\n",
            "cymem                         2.0.7\n",
            "Cython                        0.29.33\n",
            "dask                          2022.2.1\n",
            "datascience                   0.17.6\n",
            "db-dtypes                     1.0.5\n",
            "dbus-python                   1.2.16\n",
            "debugpy                       1.6.6\n",
            "decorator                     4.4.2\n",
            "defusedxml                    0.7.1\n",
            "distributed                   2022.2.1\n",
            "dlib                          19.24.0\n",
            "dm-tree                       0.1.8\n",
            "dnspython                     2.3.0\n",
            "docutils                      0.16\n",
            "dopamine-rl                   1.0.5\n",
            "earthengine-api               0.1.343\n",
            "easydict                      1.10\n",
            "ecos                          2.0.12\n",
            "editdistance                  0.5.3\n",
            "en-core-web-sm                3.4.1\n",
            "entrypoints                   0.4\n",
            "ephem                         4.1.4\n",
            "et-xmlfile                    1.1.0\n",
            "etils                         1.0.0\n",
            "etuples                       0.3.8\n",
            "fa2                           0.3.5\n",
            "fastai                        2.7.11\n",
            "fastcore                      1.5.28\n",
            "fastdownload                  0.0.7\n",
            "fastdtw                       0.3.4\n",
            "fastjsonschema                2.16.3\n",
            "fastprogress                  1.0.3\n",
            "fastrlock                     0.8.1\n",
            "feather-format                0.4.1\n",
            "filelock                      3.9.0\n",
            "firebase-admin                5.3.0\n",
            "fix-yahoo-finance             0.0.22\n",
            "Flask                         2.2.3\n",
            "flatbuffers                   23.1.21\n",
            "folium                        0.12.1.post1\n",
            "fonttools                     4.38.0\n",
            "frozenlist                    1.3.3\n",
            "fsspec                        2023.1.0\n",
            "future                        0.16.0\n",
            "gast                          0.4.0\n",
            "GDAL                          3.3.2\n",
            "gdown                         4.4.0\n",
            "gensim                        3.6.0\n",
            "geographiclib                 1.52\n",
            "geopy                         1.17.0\n",
            "gin-config                    0.5.0\n",
            "glob2                         0.7\n",
            "google                        2.0.3\n",
            "google-api-core               2.11.0\n",
            "google-api-python-client      2.70.0\n",
            "google-auth                   2.16.2\n",
            "google-auth-httplib2          0.1.0\n",
            "google-auth-oauthlib          0.4.6\n",
            "google-cloud-bigquery         3.4.2\n",
            "google-cloud-bigquery-storage 2.19.0\n",
            "google-cloud-core             2.3.2\n",
            "google-cloud-datastore        2.11.1\n",
            "google-cloud-firestore        2.7.3\n",
            "google-cloud-language         2.6.1\n",
            "google-cloud-storage          2.7.0\n",
            "google-cloud-translate        3.8.4\n",
            "google-colab                  1.0.0\n",
            "google-crc32c                 1.5.0\n",
            "google-pasta                  0.2.0\n",
            "google-resumable-media        2.4.1\n",
            "googleapis-common-protos      1.58.0\n",
            "googledrivedownloader         0.4\n",
            "graphviz                      0.10.1\n",
            "greenlet                      2.0.2\n",
            "grpcio                        1.51.3\n",
            "grpcio-status                 1.48.2\n",
            "gspread                       3.4.2\n",
            "gspread-dataframe             3.0.8\n",
            "gym                           0.25.2\n",
            "gym-notices                   0.0.8\n",
            "h5py                          3.1.0\n",
            "HeapDict                      1.0.1\n",
            "hijri-converter               2.2.4\n",
            "holidays                      0.20\n",
            "holoviews                     1.14.9\n",
            "html5lib                      1.0.1\n",
            "httpimport                    0.5.18\n",
            "httplib2                      0.17.4\n",
            "httpstan                      4.6.1\n",
            "humanize                      0.5.1\n",
            "hyperopt                      0.1.2\n",
            "idna                          2.10\n",
            "imageio                       2.9.0\n",
            "imagesize                     1.4.1\n",
            "imbalanced-learn              0.8.1\n",
            "imblearn                      0.0\n",
            "imgaug                        0.4.0\n",
            "importlib-metadata            6.0.0\n",
            "importlib-resources           5.12.0\n",
            "imutils                       0.5.4\n",
            "inflect                       2.1.0\n",
            "intel-openmp                  2023.0.0\n",
            "ipykernel                     5.3.4\n",
            "ipython                       7.9.0\n",
            "ipython-genutils              0.2.0\n",
            "ipython-sql                   0.3.9\n",
            "ipywidgets                    7.7.1\n",
            "itsdangerous                  2.1.2\n",
            "jax                           0.4.4\n",
            "jaxlib                        0.4.4+cuda11.cudnn82\n",
            "jieba                         0.42.1\n",
            "Jinja2                        3.1.2\n",
            "joblib                        1.2.0\n",
            "jsonschema                    4.3.3\n",
            "jupyter-client                6.1.12\n",
            "jupyter-console               6.1.0\n",
            "jupyter_core                  5.2.0\n",
            "jupyterlab-pygments           0.2.2\n",
            "jupyterlab-widgets            3.0.5\n",
            "kaggle                        1.5.13\n",
            "keras                         2.11.0\n",
            "keras-vis                     0.4.1\n",
            "kiwisolver                    1.4.4\n",
            "korean-lunar-calendar         0.3.1\n",
            "langcodes                     3.3.0\n",
            "libclang                      15.0.6.1\n",
            "librosa                       0.8.1\n",
            "lightgbm                      2.2.3\n",
            "llvmlite                      0.39.1\n",
            "lmdb                          0.99\n",
            "locket                        1.0.0\n",
            "logical-unification           0.4.5\n",
            "LunarCalendar                 0.0.9\n",
            "lxml                          4.9.2\n",
            "Markdown                      3.4.1\n",
            "MarkupSafe                    2.1.2\n",
            "marshmallow                   3.19.0\n",
            "matplotlib                    3.5.3\n",
            "matplotlib-venn               0.11.9\n",
            "miniKanren                    1.0.3\n",
            "missingno                     0.5.2\n",
            "mistune                       0.8.4\n",
            "mizani                        0.8.1\n",
            "mkl                           2019.0\n",
            "mlxtend                       0.14.0\n",
            "more-itertools                9.1.0\n",
            "moviepy                       0.2.3.5\n",
            "mpmath                        1.2.1\n",
            "msgpack                       1.0.4\n",
            "multidict                     6.0.4\n",
            "multipledispatch              0.6.0\n",
            "multitasking                  0.0.11\n",
            "murmurhash                    1.0.9\n",
            "music21                       5.5.0\n",
            "natsort                       5.5.0\n",
            "nbclient                      0.7.2\n",
            "nbconvert                     6.5.4\n",
            "nbformat                      5.7.3\n",
            "netCDF4                       1.6.2\n",
            "networkx                      3.0\n",
            "nibabel                       3.0.2\n",
            "nltk                          3.7\n",
            "notebook                      6.3.0\n",
            "numba                         0.56.4\n",
            "numexpr                       2.8.4\n",
            "numpy                         1.22.4\n",
            "oauth2client                  4.1.3\n",
            "oauthlib                      3.2.2\n",
            "opencv-contrib-python         4.6.0.66\n",
            "opencv-python                 4.6.0.66\n",
            "opencv-python-headless        4.7.0.72\n",
            "openpyxl                      3.0.10\n",
            "opt-einsum                    3.3.0\n",
            "osqp                          0.6.2.post0\n",
            "packaging                     23.0\n",
            "palettable                    3.3.0\n",
            "pandas                        1.3.5\n",
            "pandas-datareader             0.9.0\n",
            "pandas-gbq                    0.17.9\n",
            "pandas-profiling              1.4.1\n",
            "pandocfilters                 1.5.0\n",
            "panel                         0.14.3\n",
            "param                         1.12.3\n",
            "parso                         0.8.3\n",
            "partd                         1.3.0\n",
            "pastel                        0.2.1\n",
            "pathlib                       1.0.1\n",
            "pathy                         0.10.1\n",
            "patsy                         0.5.3\n",
            "pep517                        0.13.0\n",
            "pexpect                       4.8.0\n",
            "pickleshare                   0.7.5\n",
            "Pillow                        8.4.0\n",
            "pip                           22.0.4\n",
            "pip-tools                     6.6.2\n",
            "platformdirs                  3.0.0\n",
            "plotly                        5.5.0\n",
            "plotnine                      0.10.1\n",
            "pluggy                        0.7.1\n",
            "pooch                         1.7.0\n",
            "portpicker                    1.3.9\n",
            "prefetch-generator            1.0.3\n",
            "preshed                       3.0.8\n",
            "prettytable                   3.6.0\n",
            "progressbar2                  3.38.0\n",
            "prometheus-client             0.16.0\n",
            "promise                       2.3\n",
            "prompt-toolkit                2.0.10\n",
            "prophet                       1.1.2\n",
            "proto-plus                    1.22.2\n",
            "protobuf                      3.19.6\n",
            "psutil                        5.4.8\n",
            "psycopg2                      2.9.5\n",
            "ptyprocess                    0.7.0\n",
            "py                            1.11.0\n",
            "pyarrow                       9.0.0\n",
            "pyasn1                        0.4.8\n",
            "pyasn1-modules                0.2.8\n",
            "pycocotools                   2.0.6\n",
            "pycparser                     2.21\n",
            "pyct                          0.5.0\n",
            "pydantic                      1.10.5\n",
            "pydata-google-auth            1.7.0\n",
            "pydot                         1.3.0\n",
            "pydot-ng                      2.0.0\n",
            "pydotplus                     2.0.2\n",
            "PyDrive                       1.3.1\n",
            "pyerfa                        2.0.0.1\n",
            "Pygments                      2.6.1\n",
            "PyGObject                     3.36.0\n",
            "pylev                         1.4.0\n",
            "pymc                          4.1.4\n",
            "PyMeeus                       0.5.12\n",
            "pymongo                       4.3.3\n",
            "pymystem3                     0.2.0\n",
            "PyOpenGL                      3.1.6\n",
            "pyparsing                     3.0.9\n",
            "pyrsistent                    0.19.3\n",
            "pysimdjson                    3.2.0\n",
            "PySocks                       1.7.1\n",
            "pystan                        3.3.0\n",
            "pytest                        3.6.4\n",
            "python-apt                    2.0.1\n",
            "python-dateutil               2.8.2\n",
            "python-louvain                0.16\n",
            "python-slugify                8.0.1\n",
            "python-utils                  3.5.2\n",
            "pytz                          2022.7.1\n",
            "pyviz-comms                   2.2.1\n",
            "PyWavelets                    1.4.1\n",
            "PyYAML                        6.0\n",
            "pyzmq                         23.2.1\n",
            "qdldl                         0.1.5.post3\n",
            "qudida                        0.0.4\n",
            "regex                         2022.6.2\n",
            "requests                      2.25.1\n",
            "requests-oauthlib             1.3.1\n",
            "requests-unixsocket           0.2.0\n",
            "resampy                       0.4.2\n",
            "rpy2                          3.5.5\n",
            "rsa                           4.9\n",
            "scikit-image                  0.19.3\n",
            "scikit-learn                  1.2.1\n",
            "scipy                         1.10.1\n",
            "screen-resolution-extra       0.0.0\n",
            "scs                           3.2.2\n",
            "seaborn                       0.11.2\n",
            "Send2Trash                    1.8.0\n",
            "setuptools                    57.4.0\n",
            "shapely                       2.0.1\n",
            "six                           1.15.0\n",
            "sklearn-pandas                2.2.0\n",
            "smart-open                    6.3.0\n",
            "snowballstemmer               2.2.0\n",
            "sortedcontainers              2.4.0\n",
            "soundfile                     0.12.1\n",
            "spacy                         3.4.4\n",
            "spacy-legacy                  3.0.12\n",
            "spacy-loggers                 1.0.4\n",
            "Sphinx                        3.5.4\n",
            "sphinxcontrib-applehelp       1.0.4\n",
            "sphinxcontrib-devhelp         1.0.2\n",
            "sphinxcontrib-htmlhelp        2.0.1\n",
            "sphinxcontrib-jsmath          1.0.1\n",
            "sphinxcontrib-qthelp          1.0.3\n",
            "sphinxcontrib-serializinghtml 1.1.5\n",
            "SQLAlchemy                    1.4.46\n",
            "sqlparse                      0.4.3\n",
            "srsly                         2.4.6\n",
            "statsmodels                   0.13.5\n",
            "sympy                         1.7.1\n",
            "tables                        3.7.0\n",
            "tabulate                      0.8.10\n",
            "tblib                         1.7.0\n",
            "tenacity                      8.2.2\n",
            "tensorboard                   2.11.2\n",
            "tensorboard-data-server       0.6.1\n",
            "tensorboard-plugin-wit        1.8.1\n",
            "tensorflow                    2.11.0\n",
            "tensorflow-datasets           4.8.3\n",
            "tensorflow-estimator          2.11.0\n",
            "tensorflow-gcs-config         2.11.0\n",
            "tensorflow-hub                0.12.0\n",
            "tensorflow-io-gcs-filesystem  0.31.0\n",
            "tensorflow-metadata           1.12.0\n",
            "tensorflow-probability        0.19.0\n",
            "termcolor                     2.2.0\n",
            "terminado                     0.13.3\n",
            "text-unidecode                1.3\n",
            "textblob                      0.15.3\n",
            "thinc                         8.1.8\n",
            "threadpoolctl                 3.1.0\n",
            "tifffile                      2023.2.28\n",
            "tinycss2                      1.2.1\n",
            "toml                          0.10.2\n",
            "tomli                         2.0.1\n",
            "toolz                         0.12.0\n",
            "torch                         1.13.1+cu116\n",
            "torchaudio                    0.13.1+cu116\n",
            "torchsummary                  1.5.1\n",
            "torchtext                     0.14.1\n",
            "torchvision                   0.14.1+cu116\n",
            "tornado                       6.2\n",
            "tqdm                          4.64.1\n",
            "traitlets                     5.7.1\n",
            "tweepy                        3.10.0\n",
            "typeguard                     2.7.1\n",
            "typer                         0.7.0\n",
            "typing_extensions             4.5.0\n",
            "tzlocal                       1.5.1\n",
            "uritemplate                   4.1.1\n",
            "urllib3                       1.26.14\n",
            "vega-datasets                 0.9.0\n",
            "wasabi                        0.10.1\n",
            "wcwidth                       0.2.6\n",
            "webargs                       8.2.0\n",
            "webencodings                  0.5.1\n",
            "Werkzeug                      2.2.3\n",
            "wheel                         0.38.4\n",
            "widgetsnbextension            3.6.2\n",
            "wordcloud                     1.8.2.2\n",
            "wrapt                         1.15.0\n",
            "xarray                        2022.12.0\n",
            "xarray-einstats               0.5.1\n",
            "xgboost                       1.7.4\n",
            "xkit                          0.0.0\n",
            "xlrd                          1.2.0\n",
            "xlwt                          1.3.0\n",
            "yarl                          1.8.2\n",
            "yellowbrick                   1.5\n",
            "zict                          2.2.0\n",
            "zipp                          3.15.0\n"
          ]
        }
      ],
      "source": [
        "# 패키지나 모듈을 불러오는 키워드 import\n",
        "# 패키지와 모듈 안에 있는 것을 부분적으로 불러오기위해서는 from (패키지 또는 모듈명) import 불러오려는 모듈, 함수, 변수명...\n",
        "# 불러올 때, 다른 이름을 지정해주고 싶으면 as : import ... as ... / from ... import ... as ...\n",
        "# 특정 모듈이나 패키지 안에 있는 모든 항목들을 불러오려면 from ... import *.\n",
        "# !pip install ... / !pip install ... -q (--quiet) / !pip uninstall ... / !pip install ... -u\n",
        "# !pip list\n",
        "!pip list"
      ]
    },
    {
      "cell_type": "code",
      "source": [
        "# https://pypi.org/\n",
        "!pip install gTTS"
      ],
      "metadata": {
        "colab": {
          "base_uri": "https://localhost:8080/"
        },
        "id": "bL7E6v1lEnXI",
        "outputId": "1725b3f2-9261-4708-d54f-4ed02e914cf2"
      },
      "execution_count": null,
      "outputs": [
        {
          "output_type": "stream",
          "name": "stdout",
          "text": [
            "Looking in indexes: https://pypi.org/simple, https://us-python.pkg.dev/colab-wheels/public/simple/\n",
            "Collecting gTTS\n",
            "  Downloading gTTS-2.3.1-py3-none-any.whl (28 kB)\n",
            "Collecting requests<3,>=2.27\n",
            "  Downloading requests-2.28.2-py3-none-any.whl (62 kB)\n",
            "\u001b[2K     \u001b[90m━━━━━━━━━━━━━━━━━━━━━━━━━━━━━━━━━━━━━━━\u001b[0m \u001b[32m62.8/62.8 KB\u001b[0m \u001b[31m654.8 kB/s\u001b[0m eta \u001b[36m0:00:00\u001b[0m\n",
            "\u001b[?25hRequirement already satisfied: click<8.2,>=7.1 in /usr/local/lib/python3.8/dist-packages (from gTTS) (8.1.3)\n",
            "Requirement already satisfied: certifi>=2017.4.17 in /usr/local/lib/python3.8/dist-packages (from requests<3,>=2.27->gTTS) (2022.12.7)\n",
            "Requirement already satisfied: urllib3<1.27,>=1.21.1 in /usr/local/lib/python3.8/dist-packages (from requests<3,>=2.27->gTTS) (1.26.14)\n",
            "Requirement already satisfied: idna<4,>=2.5 in /usr/local/lib/python3.8/dist-packages (from requests<3,>=2.27->gTTS) (2.10)\n",
            "Requirement already satisfied: charset-normalizer<4,>=2 in /usr/local/lib/python3.8/dist-packages (from requests<3,>=2.27->gTTS) (3.0.1)\n",
            "Installing collected packages: requests, gTTS\n",
            "  Attempting uninstall: requests\n",
            "    Found existing installation: requests 2.25.1\n",
            "    Uninstalling requests-2.25.1:\n",
            "      Successfully uninstalled requests-2.25.1\n",
            "Successfully installed gTTS-2.3.1 requests-2.28.2\n"
          ]
        }
      ]
    },
    {
      "cell_type": "code",
      "source": [
        "# from 패키지명 import 클래스 as 변수명\n",
        "from gtts import gTTS as gs\n",
        "\n",
        "# tts = gTTS('hello')\n",
        "tts = gs('hello', lang='en')\n",
        "tts.save(\"hello.mp3\")"
      ],
      "metadata": {
        "id": "JX42mScdE2jK"
      },
      "execution_count": null,
      "outputs": []
    },
    {
      "cell_type": "code",
      "source": [
        "tts = gs('안녕', lang='ko')\n",
        "tts.save(\"hello_kr.mp3\")"
      ],
      "metadata": {
        "id": "FC1qfwtFFlF9"
      },
      "execution_count": null,
      "outputs": []
    },
    {
      "cell_type": "code",
      "source": [
        "from IPython.display import Audio\n",
        "\n",
        "# audio = Audio(\"hello_kr.mp3\")\n",
        "audio = Audio(\"hello_kr.mp3\", autoplay=True)\n",
        "display(audio)"
      ],
      "metadata": {
        "colab": {
          "base_uri": "https://localhost:8080/",
          "height": 74
        },
        "id": "xhFvAmeWF1SE",
        "outputId": "97ca7b75-7d89-470e-b229-daee27db4a98"
      },
      "execution_count": null,
      "outputs": [
        {
          "output_type": "display_data",
          "data": {
            "text/plain": [
              "<IPython.lib.display.Audio object>"
            ],
            "text/html": [
              "\n",
              "                <audio  controls=\"controls\" autoplay=\"autoplay\">\n",
              "                    <source src=\"data:audio/mpeg;base64,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\" type=\"audio/mpeg\" />\n",
              "                    Your browser does not support the audio element.\n",
              "                </audio>\n",
              "              "
            ]
          },
          "metadata": {}
        }
      ]
    },
    {
      "cell_type": "code",
      "source": [
        "from gtts import gTTS\n",
        "from IPython.display import Audio\n",
        "from random import choice, randint\n",
        "from time import sleep\n",
        "\n",
        "def chat():\n",
        "    says = [\"목 아프다\", \"배고프다\", \"졸리다\"]\n",
        "    c = choice(says)\n",
        "    tts = gTTS(c, lang='ko')\n",
        "    filename = 'chat.mp3'\n",
        "    tts.save(filename)\n",
        "    audio = Audio(filename, autoplay=True)\n",
        "    display(audio)\n",
        "\n",
        "for i in range(randint(1, 10)):\n",
        "    sleep(2)\n",
        "    chat()"
      ],
      "metadata": {
        "colab": {
          "base_uri": "https://localhost:8080/",
          "height": 470
        },
        "id": "12vCjcfAGM50",
        "outputId": "f92eb0aa-a286-4442-a73e-ecf792c23385"
      },
      "execution_count": null,
      "outputs": [
        {
          "output_type": "display_data",
          "data": {
            "text/plain": [
              "<IPython.lib.display.Audio object>"
            ],
            "text/html": [
              "\n",
              "                <audio  controls=\"controls\" autoplay=\"autoplay\">\n",
              "                    <source src=\"data:audio/mpeg;base64,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\" type=\"audio/mpeg\" />\n",
              "                    Your browser does not support the audio element.\n",
              "                </audio>\n",
              "              "
            ]
          },
          "metadata": {}
        },
        {
          "output_type": "display_data",
          "data": {
            "text/plain": [
              "<IPython.lib.display.Audio object>"
            ],
            "text/html": [
              "\n",
              "                <audio  controls=\"controls\" autoplay=\"autoplay\">\n",
              "                    <source src=\"data:audio/mpeg;base64,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\" type=\"audio/mpeg\" />\n",
              "                    Your browser does not support the audio element.\n",
              "                </audio>\n",
              "              "
            ]
          },
          "metadata": {}
        },
        {
          "output_type": "display_data",
          "data": {
            "text/plain": [
              "<IPython.lib.display.Audio object>"
            ],
            "text/html": [
              "\n",
              "                <audio  controls=\"controls\" autoplay=\"autoplay\">\n",
              "                    <source src=\"data:audio/mpeg;base64,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\" type=\"audio/mpeg\" />\n",
              "                    Your browser does not support the audio element.\n",
              "                </audio>\n",
              "              "
            ]
          },
          "metadata": {}
        },
        {
          "output_type": "display_data",
          "data": {
            "text/plain": [
              "<IPython.lib.display.Audio object>"
            ],
            "text/html": [
              "\n",
              "                <audio  controls=\"controls\" autoplay=\"autoplay\">\n",
              "                    <source src=\"data:audio/mpeg;base64,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\" type=\"audio/mpeg\" />\n",
              "                    Your browser does not support the audio element.\n",
              "                </audio>\n",
              "              "
            ]
          },
          "metadata": {}
        },
        {
          "output_type": "display_data",
          "data": {
            "text/plain": [
              "<IPython.lib.display.Audio object>"
            ],
            "text/html": [
              "\n",
              "                <audio  controls=\"controls\" autoplay=\"autoplay\">\n",
              "                    <source src=\"data:audio/mpeg;base64,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\" type=\"audio/mpeg\" />\n",
              "                    Your browser does not support the audio element.\n",
              "                </audio>\n",
              "              "
            ]
          },
          "metadata": {}
        },
        {
          "output_type": "display_data",
          "data": {
            "text/plain": [
              "<IPython.lib.display.Audio object>"
            ],
            "text/html": [
              "\n",
              "                <audio  controls=\"controls\" autoplay=\"autoplay\">\n",
              "                    <source src=\"data:audio/mpeg;base64,//NExAARuxIAAHiEuUCnj6OM6B9m8cprljNBTtz1yZIeB2ORTFP/Sjz71o1Nt7136bf/fp//t//////+rydGtV+d7W/dNkJIc5znOHFnEEIQhAAQO9gwElEAmLC7D2IQ//NExAwSUFowAVsYAHvK/0Sm5ZPUsqu2LdrGpsYLG/1NuNLLhHpFiapwmipRxdCOUiepUciXf984cdcJ37axjmrVeI0mo0Wc8uXqbtiHQPIedo8P/5ywHGMf/8c2OT32//NExBUXexJ8AZloAR2i+MjzxvcLaIRhlfzdSA5B6DoF6Dx+g1sxGHQPFw3//ywl1lZJImf/0PyYdWyC1qV////QSUaMksxSNP////+zpGai8dVmBhMRTALgMEFuqbai//NExAoTaV6YAcxIAGKzxDSr2KnEJccbpT53IOUyd53WV22SIGU0ZOxePyLMhXsiOVRrGNye+t+bWYvvns+gBcE5yIDULpt2f7L9S/2//9VatQ+FIAg2jdMtWx56y0je//NExA8TsUqkAMpMlMNJiNpbC4nWAIFDXSfaPbUjNVfzNz1fVwTeuBaCZQo8/Dz8N1yydcLMRnJe9eM+t7tjHKGvQbFPb//iNd8/L6blCVXhc+VEIIOCg+OgKumpwc/e//NExBMWcVqsAMvSlMTscsG3F6IjWexsqyN2tm2r4vY31oSAZhyDxgGmczmQAw0cQskAkJkiqJsVxrEUxXT5M3PKUVggm1TligADL3M///oe7tSuyxISCk+mKgqXFCgw//NExAwUeWawAMvYlC308neJJW6iNpIlNWbflVb63+vfsu+63kmb3nEjdBQUvQ/Nbg4xx0geCj2KDb4EcoeTqLtp0DPcP/wGsTEM9Hb///epX9fmknimrpKKVpOgDKBZ//NExA0U+VqsAMvelOxRflFmgW+xvc3UX0qf2jdGut1FiiuswGS7qHecKnJoL7Yy2Uv4/lm5hrPQ7WGpy+I24bjqldeusKq8NdO6NObsz3f//+dS7HBRALlAAEiJBS0B//NExAwQ4UaoAMJWcNtT8MtcCqi0ps0nG6TqK2QRLRcdcxpsoqVAlEcPLUhuBCA0NpqTSaO1dqLf7/521Dv3cPOnZEFaiYWAO/winHWAeWLQmqsCEXxQkp0gkFTCMlxE//NExBsPmN54AMpScIr+bFIVKu7tUbIUCElUPoREKhVIhSFStJ4KkUa0/iJQ8BJAVUSohDCYg6y0a0gSokhliuIbGsyj1oWuSxyAVAERUs52C4JIz0GyQHQMh5QRP7VB//NExC8SgIaEAHveSI/6et3uJlAIQ////xYIvEByXEI4PqcQidMBD6WTDqAPIA4siqZVyccuW0FCRuoA0oh/2d2HDUzeSG42kGO4SEg3YEBQq6vxTtIsPlAEQsUc+UOJ//NExDgSEI6YANaYTEB8mc9YS///T/ZHL/pouupVrevo8aZPHERSTGkobiBtypM0i0lZMw1QFgYXkaCegFJZWIcJSRcvE26jLr1q160PZGDqoUfpfzlb7yxhQUUyi1s///NExEISkU6gANUGlP//Q5n6LP/6FZNUjZtTPDckFV8OkZ2XmdQaxZYsGxWH4AbvB6puA8oWTETY1Qyk8wfbTNdtSPl57z2TRc87/z2n9/4dFzxSdonk////Oq/jFok4//NExEoR+UqYANzMlKCQ06lwQqQwMQcTQAWH2KGtuxEDOIj6yUWeEFACTjCIMAckiKJWIiyyiXU0nV60Vq/sfVpbwKqz/L2zhnQxuF7gR5P///2/0WVMPMVJU4UTzAwE//NExFUSeVKQANzGlDFIqEIKGAaYWDoQGjGBjMXAVE1SMPoSWiAFCYqlsBNev44X6XuO8eaN6SobXUpfqXNT1b+goedWk9///6un6zD4gIgQCgyczJxhYAAUGHnQ9oNI//NExF4SgTpwAOYEcAsQcdhQkKCi4qOTlDd9IKho6VrQuKKWhOuysqt1zrX0TyE7qv3/5W7YV/+r/60aCQsaRAPTtDxAonAQmJQGkw+rlXr9Xv63VAI0skNvH4BsDtjF//NExGcQcFZMAOZYJLB7dsI0cAi41srU/UK50/MkJV+14pIPWMZe5LdzZF4o/R7jqjIJaN+gc0cYDVImPOEkxsDln2SIB2Hly3lh8Vh/+WWIMkExzc5CymGibiPDWvPL//NExHgSQEo8AVwYAOxqKDnQPkwu91HbrewsNzy6yjYTmppBtG+5pxdaunufzMTVQ6oadO87GcS2HOv6l79zKl7mPqo3TFblPt7rmYQuJbL32s2v98XLX1Fump96ymlv//NExIIhoyo0AZxYAIY0/blVPdsFHAcGVw5j0ohd8M/njqZM+shjabDQSZTU5QKkyiFwCbojnW+mbDgN0hyFAXh2jqJRspnKZsyCKQ+DnTJUTMgX+15caTSQQHQnIGav//NExE4hcyqYAY9oAPWbszPdFZ4kDQ8ibFw7/+7GZ+y3Reswc0SKbnimsqLCb//6CGgggzKZbqy+cNCktJzEumSJKmR1VWu27oebjlGFGmIYPA4TCCHIkAUCITG0IUkF//NExBsZWj6oAcVAARALBceHRRAoDcwcHSPYwX1pl4gX2S6S0dOnH1fV8XdPdc0kfsyxFVEf/MR03XXK8pdRWh1XNFO8EHVxvh73lsuKRcg/3j45R4w/qvBFfEzW3isc//NExAgQ+RawAHmMcCCoK7vXj+W/nKZKnGjiE7ymbhE69tRF6QZGXX424/8u3Tqy0iA5Hb6U6f9WpOiiGXVKottuG0geOsW8S85WKZCBOUFhNJSEIApqqUJmGl1pEiaT//NExBcRaOqsAMJScBqu4l0ksUG4rihJQkmFGYjd2gjJ1W9V+W2os69rCKaBo9Qu13//+VubXTnv+uhanVpgGSSQXKBgg5BzYCrNSJBjRQPFr1tbIawyPoTmjR9hliXq//NExCQR+PacAMMScCNVAISUFgNJx95dxgRGioZgzWocW2s6DS+WHniSNn/+q1ZGK1ymE1nIahVAZ2MMggKSU4CxlZwcQYtTym5Kp59aeW5fWtY4ym5JWIyasfDkPbpX//NExC8R6PZkAVpgAEvFqF221W9taras/aGD2Hnu/2KK/rs//1IqBTljzKj+VONdHHEXQMFGuX/oZ8aREudHuUwN4ewwaMYMmGhcA1CZjSHIfzybGaYtQWwSseA9vzdT//NExDogQyp8AZhoACC4mSzow60v6amNFumMAXi6PckSkY/926F3Lx0gD3TL47y8TP/91Mh+VlqSRPIBQUMHKb///7v/5kUD5FKSiXQPD3JcgGZTjkjR4LlliS9LvVrl//NExAwUeWq0AZhoAO9eJiBO7QXnk7m0SNlDBmRcC1jDn+o4XDMTAd4WsVwbCuxYmim4jBKH1Hm+6mqYe5Jpml/r/XQQQNw+Nd/+pbq///6f/9F/l9JvpUtJT2fp2GIv//NExA0VGR7EAZhgAFMracLFjJf2HE6FBywerS6OK1UPpsSGUIiwjiOggiMDo5AyhjirpraF3ltoL05naWeqtgrXKronWjpYFSYBBEFgCCYOBf/iqh2Czk+HIOcdqrIO//NExAsUYXLIAY9gAKk/zpMI8jcMkYomxKwbkAdBzbgFQlCMdBQHrRLLQjFuFIDJGsvzd342MrT71rf2H8p0Ts92NM2t/0lzvp/2+N6clreacjm6OUP4XQdqiJkc6OMs//NExAwVOVrIAY9gAPlhOQmoV49Zb00JiWg9LQig3LYBHCSDYHRmWhzAHCc0EASeRLbZei9+/0m/dWrVVMFX8YV5Tu5yta9f4l//lPYcfDBAaYf0PyvMALGIEdgmDc9c//NExAoSgWLAAc94ASKUbEXfYna5HyVi6RtDlhl9Zz9VDEmsE1P0sE6mmgxKxK0/p9fWa51TGvq9c1gbp9ZiVp//rOs6x6VpWISS61rSQLe5hVPHFba0fHOZ4rEefK6i//NExBMQoRrEAU9YARl0P5kXkfdPRC8mCM0bgDzwJxMVZDbfx9W+HcXzdsi7u1eKcmF1/tobh1cCHSK/tUjBGND4tw1tucqXu5jS2XMtUwW7LEqlgRQI3CaELMg7JCTC//NExCMbUcK4AZh4AOQ+i8hHw1aylkPNc4D5CQnIsOdIUS7hNvH3usGDV/uO2Mm4crxgibnteMrZ9Q5mOHLueNAoyz4pjXb316X/x/75///8YKuZ8p9SVYNA6W0XVNwT//NExAgSoW68Ac9YAPOi1Swng9SjuQa6dLhtdINiOOz8ckoOkocjgEEPCxjTTjWfe2W3xxyyo4e6P4XcrTpvjqaZ02pa9JYJBYcpL////pWVnAtQCQlfQtvMG7YcuyZW//NExBASUXa0AU9oAFOQqGZTJQxsI1+1jKjJMxjisSAsTxWfmNXoOmhWytbKep1PrOliBIsi9Glo0mpTVzA/Iklru///+tUKCTBCAywoBSF6J8SxERzkUZiplRKBQgFD//NExBkVSXa4AY9gAKJYvJCczWOGQIjsfHofvKjMVnai/b30vek9/dOfXax99MvDnTPLXtYrZtl/J76Rv/n3+IMnsoLv3f4r9Kq0QgYzESs86wp/oYfl6H5jEXuu9fdK//NExBYRYSqkAdhYAbw2/NSHZyvSz6hFaGYal5kgsqyKde74cx3F//dR9c96WYJWc6LGTfjBJa/4OOP/2oyOTE3ZCe0xR1arRH6o39bE/2+kMAo+qi+DU8gofK2dHong//NExCMR4W6MAMsKlNTsQVHxMxW7P3pna6Ou69jc0tYSKIl0dSo6lKxkGFRyqP///qpdQ7WCWUYgFGDgoQAtWYa7DNXefk6XQk0xLJ0VXErBl2EkyRh0fLiqCKKFoaSt//NExC4SUUZsANsKcFSoYxjK+tqenKMKPKmZR0xEh5wi7f///gKrQmoEgJodEamPGVgBgIE4LUGbu87ctiGG2yBZpADskGq1y0ARZS1IWGAEAIqVrPRCsokIkf//0UVU//NExDcQcSZUANpKcJFrqgbs//////+mM2gTdh0z1YMlDTKhNVQwEERHMCB13lmXEEKQY9KVN4uRdi9EpRiHOalcU9EUUOLbYVBUZVjUSCXaiZccUSVFP8pJtKJvwo2i//NExEgSKMocANvGcdUQJDIvI0V9XChqW4mAxoBs8NBZ04SFMBaqtCrqNsLB2dOvqO4TTSo2de0x7BQ31trZ/9el9dfl+xJvc0m9089h0eoTonAkaGMhxcWVIT8Q7gTg//NExFIQWJHsAMGGTGMGDJkKhoAQggCtqbLlTajqRZAchwo1IDWYFsLAy4VxYBRZ75o/S7bv2b29bmcZZRCSWtRPEmcj7Jc1104pZbvGIH0QRFEQiCpTwkm4fOXME4Co//NExGMRgEn4AHpGJJAUMCqDYOjow0kRg2KlUChiATMiK1PCijpGlFarXOTJMQpEXrK9bcjrq/1NVU6Bp8bwryeu/Uut3rMzSvUZYFbaYj6Mn8GEt3XOiE10rsToh65A//NExHASaIX0AMGMSJzCjBe82ci9zQOlbzycItSknt6tVG2ifet6P2ViGowbSmtcTBTiqRhuF8XEL6dXTuyZMc2zNJBIwsznqtBBhEKA0KiUXFwVBoKMMAIKPNk3dPKh//NExHkSeN38AMJGcEFGbDYGAwlBU6Y1tWz/Tod7P/9dHqIGnSFSqQYLE0iMqHXEo86lDCQjPgE4+KDhQZWgwoZYQQwYdCGPQgVMy5ZrxyHxj0hs1UaZHpiw7K601pyH//NExIIQqJn0AHmGTOM+tCpPlC8BIAz1DJqJ/HLT5RuYyvi4wewjE/aRn5z+Demu2Jme2PTz2gnRQTvC3J6+mWDT+y7EMDIFWQcXhZAvYFjwWNBU49MpAYrd6xzTL2y4//NExJIQiFH4AHpMJKtNPYmrW/k5qkON0sivFxXh5GCJS0TklARIMBGAhXQEirjp4FolYvDSBQKnazwazsSyxZ8NMLVgIRc7ztMNVVu+PdK8S8r+PdpqTEFNTEFNRTMu//NExKIV4UoAAMGGlDEwMKqqqqqqqqqqqqqqqqqqqqqqqqqqqqqqqqqqqqqqqqqqqqqqqqqqqqqqqqqqqqqqqqqqqqqqqqqqqqqqqqqqqqqqqqqqqqqqqqqqqqqqqqqq//NExJ0QEG3sAHmGKKqqqqqqqqqqqqqqqqqqqqqqqqqqqqqqqqqqqqqqqqqqqqqqqqqqqqqqqqqqqqqqqqqqqqqqqqqqqqqqqqqqqqqqqqqqqqqqqqqqqqqqqqqqqqqq//NExKwAAANIAAAAAKqqqqqqqqqqqqqqqqqqqqqqqqqqqqqqqqqqqqqqqqqqqqqqqqqqqqqqqqqqqqqqqqqqqqqqqqqqqqqqqqqqqqqqqqqqqqqqqqqqqqqqqqqqqqqq\" type=\"audio/mpeg\" />\n",
              "                    Your browser does not support the audio element.\n",
              "                </audio>\n",
              "              "
            ]
          },
          "metadata": {}
        },
        {
          "output_type": "display_data",
          "data": {
            "text/plain": [
              "<IPython.lib.display.Audio object>"
            ],
            "text/html": [
              "\n",
              "                <audio  controls=\"controls\" autoplay=\"autoplay\">\n",
              "                    <source src=\"data:audio/mpeg;base64,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\" type=\"audio/mpeg\" />\n",
              "                    Your browser does not support the audio element.\n",
              "                </audio>\n",
              "              "
            ]
          },
          "metadata": {}
        },
        {
          "output_type": "display_data",
          "data": {
            "text/plain": [
              "<IPython.lib.display.Audio object>"
            ],
            "text/html": [
              "\n",
              "                <audio  controls=\"controls\" autoplay=\"autoplay\">\n",
              "                    <source src=\"data:audio/mpeg;base64,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\" type=\"audio/mpeg\" />\n",
              "                    Your browser does not support the audio element.\n",
              "                </audio>\n",
              "              "
            ]
          },
          "metadata": {}
        }
      ]
    }
  ]
}