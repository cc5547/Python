{
  "nbformat": 4,
  "nbformat_minor": 0,
  "metadata": {
    "colab": {
      "provenance": [],
      "include_colab_link": true
    },
    "kernelspec": {
      "name": "python3",
      "display_name": "Python 3"
    },
    "language_info": {
      "name": "python"
    }
  },
  "cells": [
    {
      "cell_type": "markdown",
      "metadata": {
        "id": "view-in-github",
        "colab_type": "text"
      },
      "source": [
        "<a href=\"https://colab.research.google.com/github/cc5547/Python/blob/main/submission/cc5547/2023_03_08_ch03_03_%EB%B3%B5%EC%8A%B5.ipynb\" target=\"_parent\"><img src=\"https://colab.research.google.com/assets/colab-badge.svg\" alt=\"Open In Colab\"/></a>"
      ]
    },
    {
      "cell_type": "markdown",
      "source": [
        "# 예외처리"
      ],
      "metadata": {
        "id": "74BzW4m72fhA"
      }
    },
    {
      "cell_type": "code",
      "source": [
        "class HamburgerStore:\n",
        "    def __init__(self, meat, *args):\n",
        "        self.meat = meat # 고기의 양\n",
        "        if self.meat < 0:\n",
        "            print(\"고기의 양은 음수를 입력할 수 없습니다\")\n",
        "        self.menu = args # 메뉴 가짓수\n",
        "        for m in self.menu:\n",
        "            if m[-2:] != \"버거\":\n",
        "                print(\"메뉴의 이름은 버거로 끝나야합니다\")"
      ],
      "metadata": {
        "id": "OyHq7vG42dsj"
      },
      "execution_count": null,
      "outputs": []
    },
    {
      "cell_type": "code",
      "source": [
        "store = HamburgerStore(100, \"스펀지버거\", \"양말버거\", \"인스타감성버거\")"
      ],
      "metadata": {
        "id": "R5tu1vPN3MlU"
      },
      "execution_count": null,
      "outputs": []
    },
    {
      "cell_type": "code",
      "source": [
        "store = HamburgerStore()"
      ],
      "metadata": {
        "colab": {
          "base_uri": "https://localhost:8080/",
          "height": 176
        },
        "id": "LfjF04_M3XUK",
        "outputId": "def5fc64-b85f-4b50-9a1c-9d1d1ae7a72e"
      },
      "execution_count": null,
      "outputs": [
        {
          "output_type": "error",
          "ename": "TypeError",
          "evalue": "ignored",
          "traceback": [
            "\u001b[0;31m---------------------------------------------------------------------------\u001b[0m",
            "\u001b[0;31mTypeError\u001b[0m                                 Traceback (most recent call last)",
            "\u001b[0;32m<ipython-input-4-3cfe956d09cd>\u001b[0m in \u001b[0;36m<module>\u001b[0;34m\u001b[0m\n\u001b[0;32m----> 1\u001b[0;31m \u001b[0mstore\u001b[0m \u001b[0;34m=\u001b[0m \u001b[0mHamburgerStore\u001b[0m\u001b[0;34m(\u001b[0m\u001b[0;34m)\u001b[0m\u001b[0;34m\u001b[0m\u001b[0;34m\u001b[0m\u001b[0m\n\u001b[0m",
            "\u001b[0;31mTypeError\u001b[0m: __init__() missing 1 required positional argument: 'meat'"
          ]
        }
      ]
    },
    {
      "cell_type": "code",
      "source": [
        "store = HamburgerStore(\"헤헤\")"
      ],
      "metadata": {
        "colab": {
          "base_uri": "https://localhost:8080/",
          "height": 307
        },
        "id": "btq9uEOt3cw5",
        "outputId": "c69b27b6-7720-4b81-fee7-8cd0e301580f"
      },
      "execution_count": null,
      "outputs": [
        {
          "output_type": "error",
          "ename": "TypeError",
          "evalue": "ignored",
          "traceback": [
            "\u001b[0;31m---------------------------------------------------------------------------\u001b[0m",
            "\u001b[0;31mTypeError\u001b[0m                                 Traceback (most recent call last)",
            "\u001b[0;32m<ipython-input-5-1c51d19d2908>\u001b[0m in \u001b[0;36m<module>\u001b[0;34m\u001b[0m\n\u001b[0;32m----> 1\u001b[0;31m \u001b[0mstore\u001b[0m \u001b[0;34m=\u001b[0m \u001b[0mHamburgerStore\u001b[0m\u001b[0;34m(\u001b[0m\u001b[0;34m\"헤헤\"\u001b[0m\u001b[0;34m)\u001b[0m\u001b[0;34m\u001b[0m\u001b[0;34m\u001b[0m\u001b[0m\n\u001b[0m",
            "\u001b[0;32m<ipython-input-1-59b2976d3d0f>\u001b[0m in \u001b[0;36m__init__\u001b[0;34m(self, meat, *args)\u001b[0m\n\u001b[1;32m      2\u001b[0m     \u001b[0;32mdef\u001b[0m \u001b[0m__init__\u001b[0m\u001b[0;34m(\u001b[0m\u001b[0mself\u001b[0m\u001b[0;34m,\u001b[0m \u001b[0mmeat\u001b[0m\u001b[0;34m,\u001b[0m \u001b[0;34m*\u001b[0m\u001b[0margs\u001b[0m\u001b[0;34m)\u001b[0m\u001b[0;34m:\u001b[0m\u001b[0;34m\u001b[0m\u001b[0;34m\u001b[0m\u001b[0m\n\u001b[1;32m      3\u001b[0m         \u001b[0mself\u001b[0m\u001b[0;34m.\u001b[0m\u001b[0mmeat\u001b[0m \u001b[0;34m=\u001b[0m \u001b[0mmeat\u001b[0m \u001b[0;31m# 고기의 양\u001b[0m\u001b[0;34m\u001b[0m\u001b[0;34m\u001b[0m\u001b[0m\n\u001b[0;32m----> 4\u001b[0;31m         \u001b[0;32mif\u001b[0m \u001b[0mself\u001b[0m\u001b[0;34m.\u001b[0m\u001b[0mmeat\u001b[0m \u001b[0;34m<\u001b[0m \u001b[0;36m0\u001b[0m\u001b[0;34m:\u001b[0m\u001b[0;34m\u001b[0m\u001b[0;34m\u001b[0m\u001b[0m\n\u001b[0m\u001b[1;32m      5\u001b[0m             \u001b[0mprint\u001b[0m\u001b[0;34m(\u001b[0m\u001b[0;34m\"고기의 양은 음수를 입력할 수 없습니다\"\u001b[0m\u001b[0;34m)\u001b[0m\u001b[0;34m\u001b[0m\u001b[0;34m\u001b[0m\u001b[0m\n\u001b[1;32m      6\u001b[0m         \u001b[0mself\u001b[0m\u001b[0;34m.\u001b[0m\u001b[0mmenu\u001b[0m \u001b[0;34m=\u001b[0m \u001b[0margs\u001b[0m \u001b[0;31m# 메뉴 가짓수\u001b[0m\u001b[0;34m\u001b[0m\u001b[0;34m\u001b[0m\u001b[0m\n",
            "\u001b[0;31mTypeError\u001b[0m: '<' not supported between instances of 'str' and 'int'"
          ]
        }
      ]
    },
    {
      "cell_type": "code",
      "source": [
        "store = HamburgerStore(-1)"
      ],
      "metadata": {
        "colab": {
          "base_uri": "https://localhost:8080/"
        },
        "id": "5OZi6No13h1x",
        "outputId": "a4151f5e-bae8-4fbb-9b57-5505c9534510"
      },
      "execution_count": null,
      "outputs": [
        {
          "output_type": "stream",
          "name": "stdout",
          "text": [
            "고기의 양은 음수를 입력할 수 없습니다\n"
          ]
        }
      ]
    },
    {
      "cell_type": "code",
      "source": [
        "store = HamburgerStore(1.2345)"
      ],
      "metadata": {
        "id": "kSHA_XDb3nAa"
      },
      "execution_count": null,
      "outputs": []
    },
    {
      "cell_type": "code",
      "source": [
        "store = HamburgerStore(100, \"맥너겟\")"
      ],
      "metadata": {
        "colab": {
          "base_uri": "https://localhost:8080/"
        },
        "id": "NfdCKPAZ3udQ",
        "outputId": "7aaaf380-2abf-4bb7-a21e-2aab0ff9e4eb"
      },
      "execution_count": null,
      "outputs": [
        {
          "output_type": "stream",
          "name": "stdout",
          "text": [
            "메뉴의 이름은 버거로 끝나야합니다\n"
          ]
        }
      ]
    },
    {
      "cell_type": "code",
      "source": [
        "store = HamburgerStore(100)"
      ],
      "metadata": {
        "id": "o4CZO6Ms3_ot"
      },
      "execution_count": null,
      "outputs": []
    },
    {
      "cell_type": "markdown",
      "source": [
        "# 1단계 : 기본 오류 처리하기"
      ],
      "metadata": {
        "id": "Lc6TKnJw36BK"
      }
    },
    {
      "cell_type": "code",
      "source": [
        "try:\n",
        "    store = HamburgerStore()\n",
        "except:\n",
        "    print(\"알 수 없는 오류입니다\")"
      ],
      "metadata": {
        "colab": {
          "base_uri": "https://localhost:8080/"
        },
        "id": "1ZMOaSwX4HDu",
        "outputId": "0617d4be-d941-4faf-d58d-c74fbc8d067d"
      },
      "execution_count": null,
      "outputs": [
        {
          "output_type": "stream",
          "name": "stdout",
          "text": [
            "알 수 없는 오류입니다\n"
          ]
        }
      ]
    },
    {
      "cell_type": "code",
      "source": [
        "try:\n",
        "    # store = HamburgerStore()\n",
        "    # store = HamburgerStore(\"\")\n",
        "    store = HamburgerStore(100)\n",
        "except Exception as e: # except Exception as e : e라는 이름의 Exception 클래스로 에러를 해석해주겠다.\n",
        "    # e -> 변수로 메시지를 받을 수 있음\n",
        "    print(\"**알 수 없는 오류입니다**\")\n",
        "    print(f\"에러 메시지 : {e}\")\n",
        "else: # 에러가 없으면 실행될 코드\n",
        "    print(\"정상적으로 가게가 생성 되었습니다\")\n",
        "    print(f\"스토어의 고기 양 : {store.meat}\")\n",
        "    print(f\"스토어의 메뉴 목록 : {store.menu}\")\n",
        "finally: # 에러가 있던 없던 실행될 코드\n",
        "    print(\"**생성 과정 완료**\")"
      ],
      "metadata": {
        "colab": {
          "base_uri": "https://localhost:8080/"
        },
        "id": "HX25ry834MBi",
        "outputId": "fb1e5e5c-cae6-4a1e-abec-0663d150e03a"
      },
      "execution_count": null,
      "outputs": [
        {
          "output_type": "stream",
          "name": "stdout",
          "text": [
            "정상적으로 가게가 생성 되었습니다\n",
            "스토어의 고기 양 : 100\n",
            "스토어의 메뉴 목록 : ()\n",
            "**생성 과정 완료**\n"
          ]
        }
      ]
    },
    {
      "cell_type": "markdown",
      "source": [
        "# 2단계 : 사용자 정의 오류 만들고 분기 시키기"
      ],
      "metadata": {
        "id": "C0aHR1eo5Aov"
      }
    },
    {
      "cell_type": "code",
      "source": [
        "# 고기 오류 : 음수 입력했을 때\n",
        "# 고기 오류 : 정수가 아닌 실수를 입력했을 때\n",
        "# 고기 오류 : 문자열 입력했을 때 (type으로 잡아주기는 하는데... 메시지가 마음에 안들어)\n",
        "# 메뉴 오류 : 메뉴가 아예 비어 있음\n",
        "# 메뉴 오류 : 메뉴에 '버거'가 포함되지 않음\n",
        "\n",
        "# 사용자 에러를 만들 때\n",
        "class MeatError(Exception): # class 오류명(Exception):\n",
        "    # pass\n",
        "    def __init__(self, msg) -> None:\n",
        "        super().__init__(msg)\n",
        "class MenuError(Exception):\n",
        "    pass\n",
        "\n",
        "class HamburgerStore:\n",
        "    meat_str_error_msg = \"문자열을 입력했습니다, 정수로 다시 입력해주세요\"\n",
        "    meat_float_error_msg = \"고기 주문량은 정수가 아닌 실수를 입력할 수 없습니다\"\n",
        "    meat_negative_error_msg = \"고기 주문량은 음수를 입력할 수 없습니다\"\n",
        "\n",
        "    def __init__(self, meat, *args):\n",
        "        self.meat = meat # 고기의 양\n",
        "        self.handle_meat() # 고기를 처리하는 메소드 (하위모듈화)\n",
        "        self.menu = args # 메뉴 가짓수\n",
        "        self.handle_menu() # 메뉴를 처리하는 메소드\n",
        "    \n",
        "    def handle_meat(self):\n",
        "        if type(self.meat) == str:\n",
        "            raise MeatError(HamburgerStore.meat_str_error_msg)\n",
        "        if type(self.meat) == float and (int(self.meat) != self.meat):\n",
        "            raise MeatError(HamburgerStore.meat_float_error_msg)\n",
        "        if self.meat < 0:\n",
        "            raise MeatError(HamburgerStore.meat_negative_error_msg)\n",
        "    \n",
        "    def handle_menu(self):\n",
        "        if not self.menu:\n",
        "            raise MenuError(\"메뉴 없이 가게를 열 수 없습니다\")\n",
        "        for m in self.menu:\n",
        "            if m[-2:] != \"버거\":\n",
        "                # print(\"메뉴의 이름은 버거로 끝나야합니다\")\n",
        "                raise MenuError(\"메뉴의 이름은 버거로 끝나야합니다\")\n",
        "\n",
        "try:\n",
        "    # store = HamburgerStore()\n",
        "    # store = HamburgerStore(\"\")\n",
        "    # store = HamburgerStore(-1)\n",
        "    # store = HamburgerStore(1.0)\n",
        "    # store = HamburgerStore(1.1)\n",
        "    # store = HamburgerStore(1)\n",
        "    # store = HamburgerStore(1, \"된장찌개\")\n",
        "    store = HamburgerStore(1, \"된장찌개버거\")\n",
        "except MeatError as e: # except 사용자에러 as e : 사용자에러를 변수 e로 불러오겠음\n",
        "    print(\"**고기 관련 오류입니다**\")\n",
        "    print(f\"에러 메시지 : {e}\")\n",
        "except MenuError as e: # except 사용자에러 as e : 사용자에러를 변수 e로 불러오겠음\n",
        "    print(\"**메뉴 관련 오류입니다**\")\n",
        "    print(f\"에러 메시지 : {e}\")\n",
        "except Exception as e: # except Exception as e : e라는 이름의 Exception 클래스로 에러를 해석해주겠다.\n",
        "    # e -> 변수로 메시지를 받을 수 있음\n",
        "    print(\"**알 수 없는 오류입니다**\")\n",
        "    print(f\"에러 메시지 : {e}\")\n",
        "else: # 에러가 없으면 실행될 코드\n",
        "    print(\"<정상적으로 가게가 생성 되었습니다>\")\n",
        "    print(f\"스토어의 고기 양 : {store.meat}\")\n",
        "    print(f\"스토어의 메뉴 목록 : {store.menu}\")\n",
        "finally: # 에러가 있던 없던 실행될 코드\n",
        "    print(\"**생성 과정 완료**\")"
      ],
      "metadata": {
        "colab": {
          "base_uri": "https://localhost:8080/"
        },
        "id": "HIERT9lq5G7_",
        "outputId": "900cd634-2e53-42b6-e601-a0f5e250b824"
      },
      "execution_count": null,
      "outputs": [
        {
          "output_type": "stream",
          "name": "stdout",
          "text": [
            "정상적으로 가게가 생성 되었습니다\n",
            "스토어의 고기 양 : 1\n",
            "스토어의 메뉴 목록 : ('된장찌개버거',)\n",
            "**생성 과정 완료**\n"
          ]
        }
      ]
    },
    {
      "cell_type": "code",
      "source": [
        "def make_store(meat, *args):\n",
        "    try:\n",
        "        # store = HamburgerStore(1, \"된장찌개\")\n",
        "        store = HamburgerStore(meat, *args)\n",
        "    except MeatError as e: # except 사용자에러 as e : 사용자에러를 변수 e로 불러오겠음\n",
        "        print(\"**고기 관련 오류입니다**\")\n",
        "        raise e\n",
        "    except MenuError as e: # except 사용자에러 as e : 사용자에러를 변수 e로 불러오겠음\n",
        "        print(\"**메뉴 관련 오류입니다**\")\n",
        "        raise e\n",
        "    except Exception as e: # except Exception as e : e라는 이름의 Exception 클래스로 에러를 해석해주겠다.\n",
        "        # e -> 변수로 메시지를 받을 수 있음\n",
        "        print(\"**알 수 없는 오류입니다**\")\n",
        "        raise e\n",
        "    return store"
      ],
      "metadata": {
        "id": "Wcm8hETMBteW"
      },
      "execution_count": null,
      "outputs": []
    },
    {
      "cell_type": "code",
      "source": [
        "try:\n",
        "    store = make_store(1, \"크록스버거\")\n",
        "except Exception as e:\n",
        "    print(f\"에러 메시지 : {e}\")\n",
        "    print(\"에러가 발생했네요, 조심해주세요!\")\n",
        "    print(\"본사에 보고하겠습니다...\")\n",
        "else: # 에러가 없으면 실행될 코드\n",
        "    print(\"<정상적으로 가게가 생성 되었습니다>\")\n",
        "    print(f\"스토어의 고기 양 : {store.meat}\")\n",
        "    print(f\"스토어의 메뉴 목록 : {store.menu}\")\n",
        "finally: # 에러가 있던 없던 실행될 코드\n",
        "    print(\"**생성 과정 완료**\")"
      ],
      "metadata": {
        "colab": {
          "base_uri": "https://localhost:8080/"
        },
        "id": "rC17RBhKAs2-",
        "outputId": "7e9e38f2-e026-4b25-f821-466e24b8d26f"
      },
      "execution_count": null,
      "outputs": [
        {
          "output_type": "stream",
          "name": "stdout",
          "text": [
            "<정상적으로 가게가 생성 되었습니다>\n",
            "스토어의 고기 양 : 1\n",
            "스토어의 메뉴 목록 : ('크록스버거',)\n",
            "**생성 과정 완료**\n"
          ]
        }
      ]
    }
  ]
}